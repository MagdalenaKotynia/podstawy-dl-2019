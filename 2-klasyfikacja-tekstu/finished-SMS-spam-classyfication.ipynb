{
 "cells": [
  {
   "cell_type": "code",
   "execution_count": null,
   "metadata": {},
   "outputs": [],
   "source": [
    "import pandas as pd\n",
    "import spacy\n",
    "import numpy as np\n",
    "from spacy.lang.en import English\n",
    "from torch.utils.data import DataLoader, Dataset\n",
    "import torch.optim as optim\n",
    "from tqdm import tqdm\n",
    "from sklearn.model_selection import train_test_split\n",
    "en = English()"
   ]
  },
  {
   "cell_type": "code",
   "execution_count": null,
   "metadata": {},
   "outputs": [
    {
     "name": "stdout",
     "output_type": "stream",
     "text": [
      "Collecting en_vectors_web_lg==2.1.0 from https://github.com/explosion/spacy-models/releases/download/en_vectors_web_lg-2.1.0/en_vectors_web_lg-2.1.0.tar.gz#egg=en_vectors_web_lg==2.1.0\n",
      "\u001b[?25l  Downloading https://github.com/explosion/spacy-models/releases/download/en_vectors_web_lg-2.1.0/en_vectors_web_lg-2.1.0.tar.gz (661.8MB)\n",
      "\u001b[K    31% |██████████▏                     | 211.4MB 10.6MB/s eta 0:00:43"
     ]
    }
   ],
   "source": [
    "!spacy download en_vectors_web_lg"
   ]
  },
  {
   "cell_type": "code",
   "execution_count": null,
   "metadata": {},
   "outputs": [],
   "source": [
    "!pip install -r requirements.txt"
   ]
  },
  {
   "cell_type": "markdown",
   "metadata": {},
   "source": [
    "Download data from \n",
    "http://students.mimuw.edu.pl/~sg385513/sms-spam-collection-dataset.zip"
   ]
  },
  {
   "cell_type": "code",
   "execution_count": null,
   "metadata": {},
   "outputs": [],
   "source": [
    "df = pd.read_csv('spam.csv', encoding = \"ISO-8859-1\", usecols=['v1', 'v2'])\n",
    "df.columns=['label', 'text']\n",
    "df.head()"
   ]
  },
  {
   "cell_type": "code",
   "execution_count": null,
   "metadata": {},
   "outputs": [],
   "source": [
    "df.groupby('label').count()"
   ]
  },
  {
   "cell_type": "markdown",
   "metadata": {},
   "source": [
    "### Spliting data\n",
    "\n",
    "Rember to split data even before any preprocessing, to eliminate your bias of preprocessing params on validation set"
   ]
  },
  {
   "cell_type": "code",
   "execution_count": null,
   "metadata": {},
   "outputs": [],
   "source": [
    "train_set, validation_set = train_test_split(df, stratify = df.label, random_state=123)"
   ]
  },
  {
   "cell_type": "code",
   "execution_count": null,
   "metadata": {},
   "outputs": [],
   "source": [
    "train_set = train_set[['text', 'label']].get_values()\n",
    "validation_set = validation_set[['text', 'label']].get_values()"
   ]
  },
  {
   "cell_type": "markdown",
   "metadata": {},
   "source": [
    "## Tokenization"
   ]
  },
  {
   "cell_type": "code",
   "execution_count": null,
   "metadata": {},
   "outputs": [],
   "source": [
    "def unique_words(docs):\n",
    "    unique_words = set()\n",
    "    for doc in docs:\n",
    "        for word in doc:\n",
    "            unique_words.add(word)\n",
    "    \n",
    "    return unique_words "
   ]
  },
  {
   "cell_type": "markdown",
   "metadata": {},
   "source": [
    "#### By whitespace"
   ]
  },
  {
   "cell_type": "code",
   "execution_count": null,
   "metadata": {},
   "outputs": [],
   "source": [
    "docs = []\n",
    "labels = []\n",
    "for text, label in train_set:\n",
    "    docs.append(text.split())\n",
    "    labels.append(label)\n",
    "\n",
    "len(unique_words(docs))"
   ]
  },
  {
   "cell_type": "markdown",
   "metadata": {},
   "source": [
    "#### With tokenizer"
   ]
  },
  {
   "cell_type": "code",
   "execution_count": null,
   "metadata": {},
   "outputs": [],
   "source": [
    "docs = []\n",
    "labels = []\n",
    "for tokens, label in en.pipe(train_set, as_tuples=True):\n",
    "    docs.append(tokens)\n",
    "    labels.append(label)\n",
    "    \n",
    "tokenized_texts = [[token.text for token in doc] for doc in docs]\n",
    "len(unique_words(tokenized_texts))"
   ]
  },
  {
   "cell_type": "markdown",
   "metadata": {},
   "source": [
    "### Normalized words\n",
    "Lowercasing + simple normalization (e.g. hyphens and dashes merged to one symbol)"
   ]
  },
  {
   "cell_type": "code",
   "execution_count": null,
   "metadata": {},
   "outputs": [],
   "source": [
    "normalized_texts = [[token.norm_ for token in doc] for doc in docs]\n",
    "\n",
    "len(unique_words(normalized_texts))"
   ]
  },
  {
   "cell_type": "code",
   "execution_count": null,
   "metadata": {},
   "outputs": [],
   "source": [
    "#excercise 1:\n",
    "unique_normalized = unique_words(normalized_texts)\n",
    "DICT_SIZE = len(unique_normalized)\n",
    "WORDS_TO_INDEX = {token: i for i, token in enumerate(unique_normalized)}\n",
    "\n",
    "def make_BOW_norms(text):\n",
    "    doc = en(text)\n",
    "    result_vector = np.zeros(DICT_SIZE + 1)\n",
    "    for token in doc:\n",
    "        result_vector[WORDS_TO_INDEX.get(token.norm_, DICT_SIZE)]+=1\n",
    "\n",
    "    return result_vector"
   ]
  },
  {
   "cell_type": "markdown",
   "metadata": {},
   "source": [
    "### Dataset class"
   ]
  },
  {
   "cell_type": "code",
   "execution_count": null,
   "metadata": {},
   "outputs": [],
   "source": [
    "class SpamData(Dataset):\n",
    "    def __init__(self, docs, labels, bow_maker):\n",
    "        self.labels = labels\n",
    "        self.bows = [bow_maker(doc) for doc in docs]\n",
    "\n",
    "    def __len__(self):\n",
    "        return len(self.labels)\n",
    "\n",
    "    def __getitem__(self, idx):\n",
    "        bow = self.bows[idx]\n",
    "        label = self.labels[idx]\n",
    "        if label =='spam':\n",
    "            l_id = 1\n",
    "        else:\n",
    "            l_id = 0\n",
    "        sample = (torch.tensor(bow, dtype = torch.float), torch.tensor(l_id))\n",
    "\n",
    "        return sample"
   ]
  },
  {
   "cell_type": "code",
   "execution_count": null,
   "metadata": {},
   "outputs": [],
   "source": [
    "import torch\n",
    "import torch.nn as nn\n",
    "import torch.nn.functional as F\n",
    "\n",
    "#excercise 2:\n",
    "\n",
    "class Net(nn.Module):\n",
    "    def __init__(self, input_size):\n",
    "        super(Net, self).__init__()\n",
    "        self.fc1 = nn.Linear(input_size, 100)\n",
    "        self.fc2 = nn.Linear(100, 2)\n",
    "        self.softmax = nn.Softmax(dim=1)\n",
    "\n",
    "    def forward(self, x):\n",
    "        x = F.relu(self.fc1(x))\n",
    "        x = self.fc2(x)\n",
    "        x = self.softmax(x)\n",
    "        return x"
   ]
  },
  {
   "cell_type": "code",
   "execution_count": null,
   "metadata": {},
   "outputs": [],
   "source": [
    "#excercise:\n",
    "\n",
    "def calc_accuracy(model, dataset):\n",
    "    with torch.no_grad():\n",
    "        loader = DataLoader(dataset, 1000)\n",
    "        correct_predictions = 0\n",
    "        for x, y in loader:\n",
    "            prediction = model(x)\n",
    "            prob, pred_label = torch.max(prediction, dim=1)\n",
    "            assert(len(pred_label) == len(x))\n",
    "            correct_predictions += int(torch.sum(y==pred_label))\n",
    "    return correct_predictions/len(dataset)\n",
    "\n",
    "\n",
    "def calc_f1(model, dataset):\n",
    "    all_y = []\n",
    "    all_predictions = []\n",
    "    with torch.no_grad():\n",
    "        loader = DataLoader(dataset, 1000)\n",
    "        for x, y in loader:\n",
    "            output = model(x)\n",
    "            prob, pred_label = torch.max(output, dim=1)\n",
    "            all_y.append(y)\n",
    "            all_predictions.append(pred_label)\n",
    "            \n",
    "    y = np.concatenate(all_y)\n",
    "    preds = np.concatenate(all_predictions)\n",
    "\n",
    "    return f1_score(y, preds)"
   ]
  },
  {
   "cell_type": "code",
   "execution_count": null,
   "metadata": {},
   "outputs": [],
   "source": [
    "epochs_loss = []\n",
    "epochs_accuracy = []\n",
    "epochs_val_accuracy = []\n",
    "\n",
    "def train(net, train_dataset, validation_dataset, batch_size, epochs):\n",
    "    trainloader = torch.utils.data.DataLoader(train_dataset, batch_size)\n",
    "    criterion = nn.CrossEntropyLoss()\n",
    "    optimizer = optim.SGD(net.parameters(), lr=0.05, momentum=0.7)\n",
    "    batches_num = len(train_dataset) // batch_size\n",
    "    print(f\"Will train with {batches_num} batches.\")\n",
    "    \n",
    "    epochs_loss = []\n",
    "    epochs_accuracy = []\n",
    "    epochs_val_accuracy = []\n",
    "    for epoch in range(epochs):  # loop over the dataset multiple times\n",
    "\n",
    "        running_loss = 0.0\n",
    "        correct_predictions = 0\n",
    "        for inputs, y in (trainloader):\n",
    "            # zero the parameter gradients\n",
    "            optimizer.zero_grad()\n",
    "\n",
    "            # forward + backward + optimize\n",
    "            outputs = net(inputs)\n",
    "            loss = criterion(outputs, y)\n",
    "            loss.backward()\n",
    "            optimizer.step()\n",
    "\n",
    "            running_loss += loss.item()\n",
    "\n",
    "            prob, pred_label = torch.max(outputs, dim=1)\n",
    "            correct_predictions += int(torch.sum(y==pred_label))\n",
    "\n",
    "        avg_loss = running_loss/batches_num\n",
    "        accuracy = correct_predictions/len(train_dataset)\n",
    "        epochs_loss.append(avg_loss)\n",
    "        epochs_accuracy.append(accuracy)\n",
    "\n",
    "        val_accuracy = calc_accuracy(net, validation_dataset)\n",
    "\n",
    "        epochs_val_accuracy.append(val_accuracy)\n",
    "        print(f\"Loss {avg_loss}, training accuracy {accuracy}, validation accuracy {val_accuracy}\")\n",
    "\n",
    "    print('Finished Training')"
   ]
  },
  {
   "cell_type": "code",
   "execution_count": null,
   "metadata": {},
   "outputs": [],
   "source": [
    "batch_size=10\n",
    "\n",
    "train_x, train_y = train_set.T\n",
    "val_x, val_y = validation_set.T\n",
    "train_dataset = SpamData(train_x, train_y, make_BOW_norms)\n",
    "validation_dataset = SpamData(val_x, val_y, make_BOW_norms)\n",
    "\n",
    "net = Net(DICT_SIZE + 1)\n",
    "\n",
    "train(net, train_dataset, validation_dataset, 10, 10)"
   ]
  },
  {
   "cell_type": "code",
   "execution_count": null,
   "metadata": {},
   "outputs": [],
   "source": [
    "calc_accuracy(net, validation_dataset)"
   ]
  },
  {
   "cell_type": "markdown",
   "metadata": {},
   "source": [
    "### Lemmas"
   ]
  },
  {
   "cell_type": "code",
   "execution_count": null,
   "metadata": {},
   "outputs": [],
   "source": [
    "lemmatized_texts = [[token.lemma_ for token in doc] for doc in docs]\n",
    "\n",
    "unique_lemmas = unique_words(lemmatized_texts)\n",
    "len(unique_lemmas)"
   ]
  },
  {
   "cell_type": "code",
   "execution_count": null,
   "metadata": {},
   "outputs": [],
   "source": [
    "LEMMAS_DICT_SIZE = len(unique_lemmas)\n",
    "LEMMAS_TO_INDEX = {token: i for i, token in enumerate(unique_lemmas)}\n",
    "\n",
    "def make_BOW_lemmas(text):\n",
    "    doc = en(text)\n",
    "    result_vector = np.zeros(LEMMAS_DICT_SIZE + 1)\n",
    "    for token in doc:\n",
    "        result_vector[LEMMAS_TO_INDEX.get(token.lemma_, LEMMAS_DICT_SIZE)]+=1\n",
    "\n",
    "    return result_vector"
   ]
  },
  {
   "cell_type": "code",
   "execution_count": null,
   "metadata": {},
   "outputs": [],
   "source": [
    "train_dataset = SpamData(train_x, train_y, make_BOW_lemmas)\n",
    "validation_dataset = SpamData(val_x, val_y, make_BOW_lemmas)\n",
    "\n",
    "net = Net(LEMMAS_DICT_SIZE+1)\n",
    "\n",
    "train(net, train_dataset, validation_dataset, 10, 10)"
   ]
  },
  {
   "cell_type": "code",
   "execution_count": null,
   "metadata": {},
   "outputs": [],
   "source": [
    "calc_accuracy(net, validation_dataset)"
   ]
  },
  {
   "cell_type": "markdown",
   "metadata": {},
   "source": [
    "### Stems"
   ]
  },
  {
   "cell_type": "code",
   "execution_count": null,
   "metadata": {},
   "outputs": [],
   "source": [
    "from nltk.stem.porter import PorterStemmer\n",
    "stemmer = PorterStemmer()\n",
    "\n",
    "stemmed_texts = [[stemmer.stem(token.norm_) for token in doc] for doc in docs]\n",
    "\n",
    "unique_stems=unique_words(stemmed_texts)\n",
    "len(unique_stems)"
   ]
  },
  {
   "cell_type": "code",
   "execution_count": null,
   "metadata": {},
   "outputs": [],
   "source": [
    "STEM_TO_INDEX = {token: i for i, token in enumerate(unique_stems)}\n",
    "STEMS_DICT_SIZE = len(unique_stems)\n",
    "\n",
    "def make_BOW_stems(text):\n",
    "    doc = en(text)\n",
    "    result_vector = np.zeros(STEMS_DICT_SIZE+1)\n",
    "    for token in doc:\n",
    "        result_vector[STEM_TO_INDEX.get(stemmer.stem(token.norm_), STEMS_DICT_SIZE)]+=1\n",
    "\n",
    "    return result_vector"
   ]
  },
  {
   "cell_type": "code",
   "execution_count": null,
   "metadata": {},
   "outputs": [],
   "source": [
    "train_dataset = SpamData(train_x, train_y, make_BOW_stems)\n",
    "validation_dataset = SpamData(val_x, val_y, make_BOW_stems)\n",
    "\n",
    "net = Net(STEMS_DICT_SIZE+1)\n",
    "\n",
    "train(net, train_dataset, validation_dataset, 10, 10)"
   ]
  },
  {
   "cell_type": "code",
   "execution_count": null,
   "metadata": {},
   "outputs": [],
   "source": [
    "calc_accuracy(net, validation_dataset)"
   ]
  },
  {
   "cell_type": "markdown",
   "metadata": {},
   "source": [
    "## Vectors"
   ]
  },
  {
   "cell_type": "code",
   "execution_count": null,
   "metadata": {},
   "outputs": [],
   "source": [
    "en = spacy.load('en')"
   ]
  },
  {
   "cell_type": "code",
   "execution_count": null,
   "metadata": {},
   "outputs": [],
   "source": [
    "def make_continous_BOW(text):\n",
    "    doc = en(text)\n",
    "    return sum([token.vector for token in doc])"
   ]
  },
  {
   "cell_type": "code",
   "execution_count": null,
   "metadata": {},
   "outputs": [],
   "source": [
    "train_dataset = SpamData(train_x, train_y, make_continous_BOW)\n",
    "validation_dataset = SpamData(val_x, val_y, make_continous_BOW)\n",
    "\n",
    "net = Net(96)\n",
    "\n",
    "train(net, train_dataset, validation_dataset, 10, 10)"
   ]
  },
  {
   "cell_type": "code",
   "execution_count": null,
   "metadata": {},
   "outputs": [],
   "source": [
    "calc_accuracy(net, validation_dataset)"
   ]
  }
 ],
 "metadata": {
  "kernelspec": {
   "display_name": "Python 3",
   "language": "python",
   "name": "python3"
  },
  "language_info": {
   "codemirror_mode": {
    "name": "ipython",
    "version": 3
   },
   "file_extension": ".py",
   "mimetype": "text/x-python",
   "name": "python",
   "nbconvert_exporter": "python",
   "pygments_lexer": "ipython3",
   "version": "3.7.3"
  },
  "toc": {
   "base_numbering": 1,
   "nav_menu": {},
   "number_sections": false,
   "sideBar": false,
   "skip_h1_title": false,
   "title_cell": "Table of Contents",
   "title_sidebar": "Contents",
   "toc_cell": false,
   "toc_position": {},
   "toc_section_display": false,
   "toc_window_display": false
  }
 },
 "nbformat": 4,
 "nbformat_minor": 2
}
